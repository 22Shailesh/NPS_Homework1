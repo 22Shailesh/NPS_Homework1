{
 "cells": [
  {
   "cell_type": "markdown",
   "metadata": {},
   "source": [
    "# Quadratic Equation\n",
    "\n",
    "The following text has been copied from a wikipedia article (https://en.wikipedia.org/wiki/Quadratic_equation)"
   ]
  },
  {
   "cell_type": "markdown",
   "metadata": {},
   "source": [
    "In algebra, a **quadratic equation** is any equation that can be rearranged in the standard form as\n",
    "\n",
    "$ax^2+bx+c=0$\n",
    "\n",
    "where *x* represents an unknown, and *a*, *b*, and *c* represent known numbers, wehre a $\\neq$ 0. If *a* = 0, then the equation is linear, not quadratic, as there is no $ax^2$ term.\n",
    "\n",
    "The numbers *a*, *b*, and *c* are the coefficients of the equation and may be distinguished by calling them, respectively, the *quadratic coefficient*, the *linear coefficient* and the *constant* or *free term*.\n",
    "\n",
    "The values of x that satisfy the equation are called solutions of the equation, and roots or zeros of the expression on its left-hand side. A quadratic equation has at most two solutions. If there is no real solution, there are two complex solutions. If there is only one solution, one says that is a double root. A quadratic equations always has two roots, if complex roots are included and a double root is counted for two. A quadratic equation can be factors into an equivalent equation\n",
    "\n",
    "𝑎𝑥2+𝑏𝑥+𝑐=𝑎(𝑥−𝑟)(𝑥−𝑠)=0 \n",
    "where r and s are the solutions for x. Completing the square on a quadratic equation in standard form results in the quadratic formula, which expresses the soultions in terms of a, b, and c. Solutions to problems that can be expressed in terms ofquadratic equations were known as early as 2000 BC.\n",
    "\n",
    "Because the quadratic equation involves only one unknown, it is called a \"univariate\". The quadratic equation only contains powers of x that are non-negative integers, and therfore it is a polynomial equation. In particular, it is a second-degree polynomial equation, since the greatest power is two.\n",
    "\n",
    "## Solving the quadratic equation\n",
    "\n",
    "A quadratic equation with real or complex coefficients has two solutions, called *roots*. These two solutions may or may not be distinct, and thet may or may not be real.\n",
    "\n",
    "![](https://upload.wikimedia.org/wikipedia/commons/thumb/d/d1/Quadratic_equation_coefficients.png/450px-Quadratic_equation_coefficients.png)\n",
    "\n",
    "### Factoring by inspection\n",
    "\n",
    "It may be possible to express a quadratic equation *ax$^2$+bx+c* = 0 as a product (*px* + *q*)(*rx* + *s*) = 0. In some cases, it is possible, by simpe inspection, to determine the values of *p*, *q*, *r*, and *s* that make the two forms equivalent to one another. If the quadratic equation is written in the second form, then the \"Zero Factor Property\" states that the quadratic equation is satisfied if *px* + q = 0 or *rx* + s = 0. Solving these two linear equations provides the roots of the quadratic."
   ]
  },
  {
   "cell_type": "code",
   "execution_count": null,
   "metadata": {},
   "outputs": [],
   "source": []
  }
 ],
 "metadata": {
  "kernelspec": {
   "display_name": "Python 3",
   "language": "python",
   "name": "python3"
  },
  "language_info": {
   "codemirror_mode": {
    "name": "ipython",
    "version": 3
   },
   "file_extension": ".py",
   "mimetype": "text/x-python",
   "name": "python",
   "nbconvert_exporter": "python",
   "pygments_lexer": "ipython3",
   "version": "3.7.6"
  }
 },
 "nbformat": 4,
 "nbformat_minor": 4
}
